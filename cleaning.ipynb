{
 "cells": [
  {
   "cell_type": "code",
   "execution_count": 2,
   "metadata": {},
   "outputs": [
    {
     "data": {
      "text/html": [
       "<div>\n",
       "<style scoped>\n",
       "    .dataframe tbody tr th:only-of-type {\n",
       "        vertical-align: middle;\n",
       "    }\n",
       "\n",
       "    .dataframe tbody tr th {\n",
       "        vertical-align: top;\n",
       "    }\n",
       "\n",
       "    .dataframe thead th {\n",
       "        text-align: right;\n",
       "    }\n",
       "</style>\n",
       "<table border=\"1\" class=\"dataframe\">\n",
       "  <thead>\n",
       "    <tr style=\"text-align: right;\">\n",
       "      <th></th>\n",
       "      <th>date</th>\n",
       "      <th>datatype</th>\n",
       "      <th>station</th>\n",
       "      <th>attributes</th>\n",
       "      <th>value</th>\n",
       "    </tr>\n",
       "  </thead>\n",
       "  <tbody>\n",
       "    <tr>\n",
       "      <th>0</th>\n",
       "      <td>2018-10-01T00:00:00</td>\n",
       "      <td>TAVG</td>\n",
       "      <td>GHCND:USW00014732</td>\n",
       "      <td>H,,S,</td>\n",
       "      <td>21.2</td>\n",
       "    </tr>\n",
       "    <tr>\n",
       "      <th>1</th>\n",
       "      <td>2018-10-01T00:00:00</td>\n",
       "      <td>TMAX</td>\n",
       "      <td>GHCND:USW00014732</td>\n",
       "      <td>,,W,2400</td>\n",
       "      <td>25.6</td>\n",
       "    </tr>\n",
       "    <tr>\n",
       "      <th>2</th>\n",
       "      <td>2018-10-01T00:00:00</td>\n",
       "      <td>TMIN</td>\n",
       "      <td>GHCND:USW00014732</td>\n",
       "      <td>,,W,2400</td>\n",
       "      <td>18.3</td>\n",
       "    </tr>\n",
       "    <tr>\n",
       "      <th>3</th>\n",
       "      <td>2018-10-02T00:00:00</td>\n",
       "      <td>TAVG</td>\n",
       "      <td>GHCND:USW00014732</td>\n",
       "      <td>H,,S,</td>\n",
       "      <td>22.7</td>\n",
       "    </tr>\n",
       "    <tr>\n",
       "      <th>4</th>\n",
       "      <td>2018-10-02T00:00:00</td>\n",
       "      <td>TMAX</td>\n",
       "      <td>GHCND:USW00014732</td>\n",
       "      <td>,,W,2400</td>\n",
       "      <td>26.1</td>\n",
       "    </tr>\n",
       "  </tbody>\n",
       "</table>\n",
       "</div>"
      ],
      "text/plain": [
       "                  date datatype            station attributes  value\n",
       "0  2018-10-01T00:00:00     TAVG  GHCND:USW00014732      H,,S,   21.2\n",
       "1  2018-10-01T00:00:00     TMAX  GHCND:USW00014732   ,,W,2400   25.6\n",
       "2  2018-10-01T00:00:00     TMIN  GHCND:USW00014732   ,,W,2400   18.3\n",
       "3  2018-10-02T00:00:00     TAVG  GHCND:USW00014732      H,,S,   22.7\n",
       "4  2018-10-02T00:00:00     TMAX  GHCND:USW00014732   ,,W,2400   26.1"
      ]
     },
     "execution_count": 2,
     "metadata": {},
     "output_type": "execute_result"
    }
   ],
   "source": [
    "import pandas as pd\n",
    "df = pd.read_csv('datasets/chap3/nyc_temperatures.csv')\n",
    "df.head()"
   ]
  },
  {
   "cell_type": "code",
   "execution_count": 3,
   "metadata": {},
   "outputs": [
    {
     "data": {
      "text/plain": [
       "Index(['date', 'datatype', 'station', 'attributes', 'value'], dtype='object')"
      ]
     },
     "execution_count": 3,
     "metadata": {},
     "output_type": "execute_result"
    }
   ],
   "source": [
    "# Renaming Columns\n",
    "df.columns\n",
    "df.rename(columns={\"value\":\"temp_c\" , \"attributes\":\"flags\"})\n",
    "df.columns"
   ]
  },
  {
   "cell_type": "code",
   "execution_count": 5,
   "metadata": {},
   "outputs": [],
   "source": [
    "# using rename\n",
    "df.rename(str.capitalize, axis='columns', inplace=True)"
   ]
  },
  {
   "cell_type": "code",
   "execution_count": 7,
   "metadata": {},
   "outputs": [
    {
     "name": "stderr",
     "output_type": "stream",
     "text": [
      "/var/folders/4j/bn3pvx9j4j9fh1s05gm6p2n40000gn/T/ipykernel_15866/3000681167.py:4: FutureWarning: In a future version, `df.iloc[:, i] = newvals` will attempt to set the values inplace instead of always setting a new array. To retain the old behavior, use either `df[df.columns[i]] = newvals` or, if columns are non-unique, `df.isetitem(i, newvals)`\n",
      "  df.loc[:,'Date'] = pd.to_datetime(df['Date'])\n"
     ]
    }
   ],
   "source": [
    "# Changing data types in colums\n",
    "df.columns\n",
    "df.dtypes\n",
    "df.loc[:,'Date'] = pd.to_datetime(df['Date'])\n"
   ]
  },
  {
   "cell_type": "code",
   "execution_count": 8,
   "metadata": {},
   "outputs": [
    {
     "name": "stderr",
     "output_type": "stream",
     "text": [
      "/var/folders/4j/bn3pvx9j4j9fh1s05gm6p2n40000gn/T/ipykernel_15866/810940312.py:2: FutureWarning: Treating datetime data as categorical rather than numeric in `.describe` is deprecated and will be removed in a future version of pandas. Specify `datetime_is_numeric=True` to silence this warning and adopt the future behavior now.\n",
      "  df.Date.describe()\n"
     ]
    },
    {
     "data": {
      "text/plain": [
       "count                     93\n",
       "mean     2018-10-16 00:00:00\n",
       "min      2018-10-01 00:00:00\n",
       "25%      2018-10-08 00:00:00\n",
       "50%      2018-10-16 00:00:00\n",
       "75%      2018-10-24 00:00:00\n",
       "max      2018-10-31 00:00:00\n",
       "Name: Date, dtype: object"
      ]
     },
     "execution_count": 8,
     "metadata": {},
     "output_type": "execute_result"
    }
   ],
   "source": [
    "# this one is treated as string \n",
    "df.Date.describe()\n",
    "# if we want to treated as numeric and get results in numeric\n",
    "df.Date.describe(datetime_is_numeric=True)"
   ]
  },
  {
   "cell_type": "code",
   "execution_count": 21,
   "metadata": {},
   "outputs": [
    {
     "data": {
      "text/html": [
       "<div>\n",
       "<style scoped>\n",
       "    .dataframe tbody tr th:only-of-type {\n",
       "        vertical-align: middle;\n",
       "    }\n",
       "\n",
       "    .dataframe tbody tr th {\n",
       "        vertical-align: top;\n",
       "    }\n",
       "\n",
       "    .dataframe thead th {\n",
       "        text-align: right;\n",
       "    }\n",
       "</style>\n",
       "<table border=\"1\" class=\"dataframe\">\n",
       "  <thead>\n",
       "    <tr style=\"text-align: right;\">\n",
       "      <th></th>\n",
       "      <th>date</th>\n",
       "      <th>datatype</th>\n",
       "      <th>station</th>\n",
       "      <th>flags</th>\n",
       "      <th>temp_C</th>\n",
       "      <th>temp_f</th>\n",
       "    </tr>\n",
       "  </thead>\n",
       "  <tbody>\n",
       "    <tr>\n",
       "      <th>0</th>\n",
       "      <td>2018-10-01</td>\n",
       "      <td>TAVG</td>\n",
       "      <td>GHCND:USW00014732</td>\n",
       "      <td>H,,S,</td>\n",
       "      <td>21.2</td>\n",
       "      <td>70.16</td>\n",
       "    </tr>\n",
       "    <tr>\n",
       "      <th>1</th>\n",
       "      <td>2018-10-01</td>\n",
       "      <td>TMAX</td>\n",
       "      <td>GHCND:USW00014732</td>\n",
       "      <td>,,W,2400</td>\n",
       "      <td>25.6</td>\n",
       "      <td>78.08</td>\n",
       "    </tr>\n",
       "  </tbody>\n",
       "</table>\n",
       "</div>"
      ],
      "text/plain": [
       "        date datatype            station     flags  temp_C  temp_f\n",
       "0 2018-10-01     TAVG  GHCND:USW00014732     H,,S,    21.2   70.16\n",
       "1 2018-10-01     TMAX  GHCND:USW00014732  ,,W,2400    25.6   78.08"
      ]
     },
     "execution_count": 21,
     "metadata": {},
     "output_type": "execute_result"
    }
   ],
   "source": [
    "# with rename we can handle any type converstion by passing the column as named parameters and their new values \n",
    "# as the value of the argument to the method call\n",
    "df = pd.read_csv('datasets/chap3/nyc_temperatures.csv').rename(columns={'value': 'temp_C', 'attributes': 'flags'})\n",
    "\n",
    "new_df = df.assign(\n",
    "    date = pd.to_datetime(df['date']),\n",
    "    temp_f = (df['temp_C']* 9/5) + 32\n",
    ")\n",
    "new_df.head(2)"
   ]
  },
  {
   "cell_type": "code",
   "execution_count": 10,
   "metadata": {},
   "outputs": [],
   "source": [
    "df = df.assign(\n",
    "    # assigns each value of the column to the date\n",
    "date=lambda x: pd.to_datetime(x.date),\n",
    "temp_C_whole=lambda x: x.temp_C.astype('int'),\n",
    "temp_F=lambda x: (x.temp_C * 9/5) + 32,\n",
    "temp_F_whole=lambda x: x.temp_F.astype('int'))"
   ]
  },
  {
   "cell_type": "code",
   "execution_count": 11,
   "metadata": {},
   "outputs": [
    {
     "data": {
      "text/plain": [
       "date            datetime64[ns]\n",
       "datatype              category\n",
       "station               category\n",
       "flags                   object\n",
       "temp_C                 float64\n",
       "temp_C_whole             int64\n",
       "temp_F                 float64\n",
       "temp_F_whole             int64\n",
       "dtype: object"
      ]
     },
     "execution_count": 11,
     "metadata": {},
     "output_type": "execute_result"
    }
   ],
   "source": [
    "# using the category type\n",
    "df_with_categories =   df.assign(\n",
    "    station = df.station.astype(\"category\"), \n",
    "    datatype = df.datatype.astype(\"category\")\n",
    ")\n",
    "df_with_categories\n",
    "df_with_categories.dtypes"
   ]
  },
  {
   "cell_type": "code",
   "execution_count": 12,
   "metadata": {},
   "outputs": [
    {
     "data": {
      "text/html": [
       "<div>\n",
       "<style scoped>\n",
       "    .dataframe tbody tr th:only-of-type {\n",
       "        vertical-align: middle;\n",
       "    }\n",
       "\n",
       "    .dataframe tbody tr th {\n",
       "        vertical-align: top;\n",
       "    }\n",
       "\n",
       "    .dataframe thead th {\n",
       "        text-align: right;\n",
       "    }\n",
       "</style>\n",
       "<table border=\"1\" class=\"dataframe\">\n",
       "  <thead>\n",
       "    <tr style=\"text-align: right;\">\n",
       "      <th></th>\n",
       "      <th>datatype</th>\n",
       "      <th>station</th>\n",
       "    </tr>\n",
       "  </thead>\n",
       "  <tbody>\n",
       "    <tr>\n",
       "      <th>count</th>\n",
       "      <td>93</td>\n",
       "      <td>93</td>\n",
       "    </tr>\n",
       "    <tr>\n",
       "      <th>unique</th>\n",
       "      <td>3</td>\n",
       "      <td>1</td>\n",
       "    </tr>\n",
       "    <tr>\n",
       "      <th>top</th>\n",
       "      <td>TAVG</td>\n",
       "      <td>GHCND:USW00014732</td>\n",
       "    </tr>\n",
       "    <tr>\n",
       "      <th>freq</th>\n",
       "      <td>31</td>\n",
       "      <td>93</td>\n",
       "    </tr>\n",
       "  </tbody>\n",
       "</table>\n",
       "</div>"
      ],
      "text/plain": [
       "       datatype            station\n",
       "count        93                 93\n",
       "unique        3                  1\n",
       "top        TAVG  GHCND:USW00014732\n",
       "freq         31                 93"
      ]
     },
     "execution_count": 12,
     "metadata": {},
     "output_type": "execute_result"
    }
   ],
   "source": [
    "# Describing Categorical Data\n",
    "df_with_categories.describe(include=\"category\")"
   ]
  },
  {
   "cell_type": "code",
   "execution_count": 20,
   "metadata": {},
   "outputs": [
    {
     "data": {
      "text/html": [
       "<div>\n",
       "<style scoped>\n",
       "    .dataframe tbody tr th:only-of-type {\n",
       "        vertical-align: middle;\n",
       "    }\n",
       "\n",
       "    .dataframe tbody tr th {\n",
       "        vertical-align: top;\n",
       "    }\n",
       "\n",
       "    .dataframe thead th {\n",
       "        text-align: right;\n",
       "    }\n",
       "</style>\n",
       "<table border=\"1\" class=\"dataframe\">\n",
       "  <thead>\n",
       "    <tr style=\"text-align: right;\">\n",
       "      <th></th>\n",
       "      <th>date</th>\n",
       "      <th>datatype</th>\n",
       "      <th>station</th>\n",
       "      <th>flags</th>\n",
       "      <th>temp_C</th>\n",
       "      <th>temp_C_whole</th>\n",
       "      <th>temp_F</th>\n",
       "      <th>temp_F_whole</th>\n",
       "    </tr>\n",
       "  </thead>\n",
       "  <tbody>\n",
       "    <tr>\n",
       "      <th>19</th>\n",
       "      <td>2018-10-07</td>\n",
       "      <td>TMAX</td>\n",
       "      <td>GHCND:USW00014732</td>\n",
       "      <td>,,W,2400</td>\n",
       "      <td>27.8</td>\n",
       "      <td>27</td>\n",
       "      <td>82.04</td>\n",
       "      <td>82</td>\n",
       "    </tr>\n",
       "    <tr>\n",
       "      <th>28</th>\n",
       "      <td>2018-10-10</td>\n",
       "      <td>TMAX</td>\n",
       "      <td>GHCND:USW00014732</td>\n",
       "      <td>,,W,2400</td>\n",
       "      <td>27.8</td>\n",
       "      <td>27</td>\n",
       "      <td>82.04</td>\n",
       "      <td>82</td>\n",
       "    </tr>\n",
       "  </tbody>\n",
       "</table>\n",
       "</div>"
      ],
      "text/plain": [
       "         date datatype            station     flags  temp_C  temp_C_whole  \\\n",
       "19 2018-10-07     TMAX  GHCND:USW00014732  ,,W,2400    27.8            27   \n",
       "28 2018-10-10     TMAX  GHCND:USW00014732  ,,W,2400    27.8            27   \n",
       "\n",
       "    temp_F  temp_F_whole  \n",
       "19   82.04            82  \n",
       "28   82.04            82  "
      ]
     },
     "execution_count": 20,
     "metadata": {},
     "output_type": "execute_result"
    }
   ],
   "source": [
    "# sorting Values\n",
    "df[df.datatype == \"TMAX\"].sort_values(by='temp_C', ascending=False).head(2)"
   ]
  },
  {
   "cell_type": "code",
   "execution_count": 19,
   "metadata": {},
   "outputs": [
    {
     "data": {
      "text/html": [
       "<div>\n",
       "<style scoped>\n",
       "    .dataframe tbody tr th:only-of-type {\n",
       "        vertical-align: middle;\n",
       "    }\n",
       "\n",
       "    .dataframe tbody tr th {\n",
       "        vertical-align: top;\n",
       "    }\n",
       "\n",
       "    .dataframe thead th {\n",
       "        text-align: right;\n",
       "    }\n",
       "</style>\n",
       "<table border=\"1\" class=\"dataframe\">\n",
       "  <thead>\n",
       "    <tr style=\"text-align: right;\">\n",
       "      <th></th>\n",
       "      <th>date</th>\n",
       "      <th>datatype</th>\n",
       "      <th>station</th>\n",
       "      <th>flags</th>\n",
       "      <th>temp_C</th>\n",
       "      <th>temp_C_whole</th>\n",
       "      <th>temp_F</th>\n",
       "      <th>temp_F_whole</th>\n",
       "    </tr>\n",
       "  </thead>\n",
       "  <tbody>\n",
       "    <tr>\n",
       "      <th>19</th>\n",
       "      <td>2018-10-07</td>\n",
       "      <td>TMAX</td>\n",
       "      <td>GHCND:USW00014732</td>\n",
       "      <td>,,W,2400</td>\n",
       "      <td>27.8</td>\n",
       "      <td>27</td>\n",
       "      <td>82.04</td>\n",
       "      <td>82</td>\n",
       "    </tr>\n",
       "    <tr>\n",
       "      <th>28</th>\n",
       "      <td>2018-10-10</td>\n",
       "      <td>TMAX</td>\n",
       "      <td>GHCND:USW00014732</td>\n",
       "      <td>,,W,2400</td>\n",
       "      <td>27.8</td>\n",
       "      <td>27</td>\n",
       "      <td>82.04</td>\n",
       "      <td>82</td>\n",
       "    </tr>\n",
       "  </tbody>\n",
       "</table>\n",
       "</div>"
      ],
      "text/plain": [
       "         date datatype            station     flags  temp_C  temp_C_whole  \\\n",
       "19 2018-10-07     TMAX  GHCND:USW00014732  ,,W,2400    27.8            27   \n",
       "28 2018-10-10     TMAX  GHCND:USW00014732  ,,W,2400    27.8            27   \n",
       "\n",
       "    temp_F  temp_F_whole  \n",
       "19   82.04            82  \n",
       "28   82.04            82  "
      ]
     },
     "execution_count": 19,
     "metadata": {},
     "output_type": "execute_result"
    }
   ],
   "source": [
    "# sorting with multuple columns and\n",
    "df[df.datatype == 'TMAX'].sort_values( by=['temp_C', 'date'], ascending=[False, True]).head(2)\n"
   ]
  },
  {
   "cell_type": "code",
   "execution_count": 18,
   "metadata": {},
   "outputs": [
    {
     "data": {
      "text/html": [
       "<div>\n",
       "<style scoped>\n",
       "    .dataframe tbody tr th:only-of-type {\n",
       "        vertical-align: middle;\n",
       "    }\n",
       "\n",
       "    .dataframe tbody tr th {\n",
       "        vertical-align: top;\n",
       "    }\n",
       "\n",
       "    .dataframe thead th {\n",
       "        text-align: right;\n",
       "    }\n",
       "</style>\n",
       "<table border=\"1\" class=\"dataframe\">\n",
       "  <thead>\n",
       "    <tr style=\"text-align: right;\">\n",
       "      <th></th>\n",
       "      <th>datatype</th>\n",
       "      <th>date</th>\n",
       "      <th>flags</th>\n",
       "      <th>station</th>\n",
       "      <th>temp_C</th>\n",
       "      <th>temp_C_whole</th>\n",
       "      <th>temp_F</th>\n",
       "      <th>temp_F_whole</th>\n",
       "    </tr>\n",
       "  </thead>\n",
       "  <tbody>\n",
       "    <tr>\n",
       "      <th>0</th>\n",
       "      <td>TAVG</td>\n",
       "      <td>2018-10-01</td>\n",
       "      <td>H,,S,</td>\n",
       "      <td>GHCND:USW00014732</td>\n",
       "      <td>21.2</td>\n",
       "      <td>21</td>\n",
       "      <td>70.16</td>\n",
       "      <td>70</td>\n",
       "    </tr>\n",
       "    <tr>\n",
       "      <th>1</th>\n",
       "      <td>TMAX</td>\n",
       "      <td>2018-10-01</td>\n",
       "      <td>,,W,2400</td>\n",
       "      <td>GHCND:USW00014732</td>\n",
       "      <td>25.6</td>\n",
       "      <td>25</td>\n",
       "      <td>78.08</td>\n",
       "      <td>78</td>\n",
       "    </tr>\n",
       "  </tbody>\n",
       "</table>\n",
       "</div>"
      ],
      "text/plain": [
       "  datatype       date     flags            station  temp_C  temp_C_whole  \\\n",
       "0     TAVG 2018-10-01     H,,S,  GHCND:USW00014732    21.2            21   \n",
       "1     TMAX 2018-10-01  ,,W,2400  GHCND:USW00014732    25.6            25   \n",
       "\n",
       "   temp_F  temp_F_whole  \n",
       "0   70.16            70  \n",
       "1   78.08            78  "
      ]
     },
     "execution_count": 18,
     "metadata": {},
     "output_type": "execute_result"
    }
   ],
   "source": [
    "# We can also sort by indexes or by columns\n",
    "# Automatically index is 0 which measn that it is for the rows but 1 \n",
    "# its for columns\n",
    "df.sort_index(axis=1).head(2)"
   ]
  },
  {
   "cell_type": "code",
   "execution_count": 17,
   "metadata": {},
   "outputs": [
    {
     "data": {
      "text/html": [
       "<div>\n",
       "<style scoped>\n",
       "    .dataframe tbody tr th:only-of-type {\n",
       "        vertical-align: middle;\n",
       "    }\n",
       "\n",
       "    .dataframe tbody tr th {\n",
       "        vertical-align: top;\n",
       "    }\n",
       "\n",
       "    .dataframe thead th {\n",
       "        text-align: right;\n",
       "    }\n",
       "</style>\n",
       "<table border=\"1\" class=\"dataframe\">\n",
       "  <thead>\n",
       "    <tr style=\"text-align: right;\">\n",
       "      <th></th>\n",
       "      <th>datatype</th>\n",
       "      <th>station</th>\n",
       "      <th>flags</th>\n",
       "      <th>temp_C</th>\n",
       "      <th>temp_C_whole</th>\n",
       "      <th>temp_F</th>\n",
       "      <th>temp_F_whole</th>\n",
       "    </tr>\n",
       "    <tr>\n",
       "      <th>date</th>\n",
       "      <th></th>\n",
       "      <th></th>\n",
       "      <th></th>\n",
       "      <th></th>\n",
       "      <th></th>\n",
       "      <th></th>\n",
       "      <th></th>\n",
       "    </tr>\n",
       "  </thead>\n",
       "  <tbody>\n",
       "    <tr>\n",
       "      <th>2018-10-01</th>\n",
       "      <td>TAVG</td>\n",
       "      <td>GHCND:USW00014732</td>\n",
       "      <td>H,,S,</td>\n",
       "      <td>21.2</td>\n",
       "      <td>21</td>\n",
       "      <td>70.16</td>\n",
       "      <td>70</td>\n",
       "    </tr>\n",
       "    <tr>\n",
       "      <th>2018-10-01</th>\n",
       "      <td>TMAX</td>\n",
       "      <td>GHCND:USW00014732</td>\n",
       "      <td>,,W,2400</td>\n",
       "      <td>25.6</td>\n",
       "      <td>25</td>\n",
       "      <td>78.08</td>\n",
       "      <td>78</td>\n",
       "    </tr>\n",
       "  </tbody>\n",
       "</table>\n",
       "</div>"
      ],
      "text/plain": [
       "           datatype            station     flags  temp_C  temp_C_whole  \\\n",
       "date                                                                     \n",
       "2018-10-01     TAVG  GHCND:USW00014732     H,,S,    21.2            21   \n",
       "2018-10-01     TMAX  GHCND:USW00014732  ,,W,2400    25.6            25   \n",
       "\n",
       "            temp_F  temp_F_whole  \n",
       "date                              \n",
       "2018-10-01   70.16            70  \n",
       "2018-10-01   78.08            78  "
      ]
     },
     "execution_count": 17,
     "metadata": {},
     "output_type": "execute_result"
    }
   ],
   "source": [
    "# setting the index\n",
    "df.set_index('date').head(2)"
   ]
  },
  {
   "cell_type": "code",
   "execution_count": 26,
   "metadata": {},
   "outputs": [
    {
     "data": {
      "text/html": [
       "<div>\n",
       "<style scoped>\n",
       "    .dataframe tbody tr th:only-of-type {\n",
       "        vertical-align: middle;\n",
       "    }\n",
       "\n",
       "    .dataframe tbody tr th {\n",
       "        vertical-align: top;\n",
       "    }\n",
       "\n",
       "    .dataframe thead th {\n",
       "        text-align: right;\n",
       "    }\n",
       "</style>\n",
       "<table border=\"1\" class=\"dataframe\">\n",
       "  <thead>\n",
       "    <tr style=\"text-align: right;\">\n",
       "      <th></th>\n",
       "      <th>high</th>\n",
       "      <th>low</th>\n",
       "      <th>open</th>\n",
       "      <th>close</th>\n",
       "      <th>volume</th>\n",
       "    </tr>\n",
       "    <tr>\n",
       "      <th>date</th>\n",
       "      <th></th>\n",
       "      <th></th>\n",
       "      <th></th>\n",
       "      <th></th>\n",
       "      <th></th>\n",
       "    </tr>\n",
       "  </thead>\n",
       "  <tbody>\n",
       "    <tr>\n",
       "      <th>2017-01-03</th>\n",
       "      <td>2263.879883</td>\n",
       "      <td>2245.129883</td>\n",
       "      <td>2251.570068</td>\n",
       "      <td>2257.830078</td>\n",
       "      <td>3770530000</td>\n",
       "    </tr>\n",
       "    <tr>\n",
       "      <th>2017-01-04</th>\n",
       "      <td>2272.820068</td>\n",
       "      <td>2261.600098</td>\n",
       "      <td>2261.600098</td>\n",
       "      <td>2270.750000</td>\n",
       "      <td>3764890000</td>\n",
       "    </tr>\n",
       "    <tr>\n",
       "      <th>2017-01-05</th>\n",
       "      <td>2271.500000</td>\n",
       "      <td>2260.449951</td>\n",
       "      <td>2268.179932</td>\n",
       "      <td>2269.000000</td>\n",
       "      <td>3761820000</td>\n",
       "    </tr>\n",
       "    <tr>\n",
       "      <th>2017-01-06</th>\n",
       "      <td>2282.100098</td>\n",
       "      <td>2264.060059</td>\n",
       "      <td>2271.139893</td>\n",
       "      <td>2276.979980</td>\n",
       "      <td>3339890000</td>\n",
       "    </tr>\n",
       "    <tr>\n",
       "      <th>2017-01-09</th>\n",
       "      <td>2275.489990</td>\n",
       "      <td>2268.899902</td>\n",
       "      <td>2273.590088</td>\n",
       "      <td>2268.899902</td>\n",
       "      <td>3217610000</td>\n",
       "    </tr>\n",
       "    <tr>\n",
       "      <th>...</th>\n",
       "      <td>...</td>\n",
       "      <td>...</td>\n",
       "      <td>...</td>\n",
       "      <td>...</td>\n",
       "      <td>...</td>\n",
       "    </tr>\n",
       "    <tr>\n",
       "      <th>2018-12-24</th>\n",
       "      <td>2410.340088</td>\n",
       "      <td>2351.100098</td>\n",
       "      <td>2400.560059</td>\n",
       "      <td>2351.100098</td>\n",
       "      <td>2613930000</td>\n",
       "    </tr>\n",
       "    <tr>\n",
       "      <th>2018-12-26</th>\n",
       "      <td>2467.760010</td>\n",
       "      <td>2346.580078</td>\n",
       "      <td>2363.120117</td>\n",
       "      <td>2467.699951</td>\n",
       "      <td>4233990000</td>\n",
       "    </tr>\n",
       "    <tr>\n",
       "      <th>2018-12-27</th>\n",
       "      <td>2489.100098</td>\n",
       "      <td>2397.939941</td>\n",
       "      <td>2442.500000</td>\n",
       "      <td>2488.830078</td>\n",
       "      <td>4096610000</td>\n",
       "    </tr>\n",
       "    <tr>\n",
       "      <th>2018-12-28</th>\n",
       "      <td>2520.270020</td>\n",
       "      <td>2472.889893</td>\n",
       "      <td>2498.770020</td>\n",
       "      <td>2485.739990</td>\n",
       "      <td>3702620000</td>\n",
       "    </tr>\n",
       "    <tr>\n",
       "      <th>2018-12-31</th>\n",
       "      <td>2509.239990</td>\n",
       "      <td>2482.820068</td>\n",
       "      <td>2498.939941</td>\n",
       "      <td>2506.850098</td>\n",
       "      <td>3442870000</td>\n",
       "    </tr>\n",
       "  </tbody>\n",
       "</table>\n",
       "<p>502 rows × 5 columns</p>\n",
       "</div>"
      ],
      "text/plain": [
       "                   high          low         open        close      volume\n",
       "date                                                                      \n",
       "2017-01-03  2263.879883  2245.129883  2251.570068  2257.830078  3770530000\n",
       "2017-01-04  2272.820068  2261.600098  2261.600098  2270.750000  3764890000\n",
       "2017-01-05  2271.500000  2260.449951  2268.179932  2269.000000  3761820000\n",
       "2017-01-06  2282.100098  2264.060059  2271.139893  2276.979980  3339890000\n",
       "2017-01-09  2275.489990  2268.899902  2273.590088  2268.899902  3217610000\n",
       "...                 ...          ...          ...          ...         ...\n",
       "2018-12-24  2410.340088  2351.100098  2400.560059  2351.100098  2613930000\n",
       "2018-12-26  2467.760010  2346.580078  2363.120117  2467.699951  4233990000\n",
       "2018-12-27  2489.100098  2397.939941  2442.500000  2488.830078  4096610000\n",
       "2018-12-28  2520.270020  2472.889893  2498.770020  2485.739990  3702620000\n",
       "2018-12-31  2509.239990  2482.820068  2498.939941  2506.850098  3442870000\n",
       "\n",
       "[502 rows x 5 columns]"
      ]
     },
     "execution_count": 26,
     "metadata": {},
     "output_type": "execute_result"
    }
   ],
   "source": [
    "# Reindex method\n",
    "sp = pd.read_csv('datasets/chap3/sp500.csv', index_col=\"date\", parse_dates=True).drop(columns=[\"adj_close\"])\n",
    "sp"
   ]
  }
 ],
 "metadata": {
  "kernelspec": {
   "display_name": "Python 3.10.8 ('finance')",
   "language": "python",
   "name": "python3"
  },
  "language_info": {
   "codemirror_mode": {
    "name": "ipython",
    "version": 3
   },
   "file_extension": ".py",
   "mimetype": "text/x-python",
   "name": "python",
   "nbconvert_exporter": "python",
   "pygments_lexer": "ipython3",
   "version": "3.10.8"
  },
  "orig_nbformat": 4,
  "vscode": {
   "interpreter": {
    "hash": "7b2867eb8f926f0772044642f11a417ca72e30f5b52f1b78ea2ef553876fc9a5"
   }
  }
 },
 "nbformat": 4,
 "nbformat_minor": 2
}
