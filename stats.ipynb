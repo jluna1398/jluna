{
 "cells": [
  {
   "cell_type": "code",
   "execution_count": 1,
   "metadata": {
    "collapsed": true
   },
   "outputs": [
    {
     "data": {
      "text/plain": "2.0"
     },
     "execution_count": 1,
     "metadata": {},
     "output_type": "execute_result"
    }
   ],
   "source": [
    "from typing import List\n",
    "## This calculates the mean\n",
    "def mean(xs:List[float]) -> float:\n",
    "    return sum(xs)/len(xs)\n",
    "\n",
    "\n",
    "mean([1,3])"
   ]
  },
  {
   "cell_type": "code",
   "execution_count": null,
   "outputs": [],
   "source": [
    "# Median: Middle most value in the dataset\n",
    "# Variance"
   ],
   "metadata": {
    "collapsed": false,
    "pycharm": {
     "name": "#%%\n"
    }
   }
  },
  {
   "cell_type": "code",
   "execution_count": null,
   "outputs": [],
   "source": [],
   "metadata": {
    "collapsed": false,
    "pycharm": {
     "name": "#%%\n"
    }
   }
  },
  {
   "cell_type": "markdown",
   "source": [],
   "metadata": {
    "collapsed": false
   }
  },
  {
   "cell_type": "markdown",
   "source": [
    "Sample mean is represented with $s$ while population mean is represented with $\\sigma$C\n",
    "CV = Coefficient of Variations = $s/x$\n",
    "Probability Density Function is for continuos varaibles and tell us how probability is distributed over the values\n",
    "Probablity Mass Functions are used for discrete variables.\n",
    "\n",
    "What is the Empirical Cumulative Distribution Function."
   ],
   "metadata": {
    "collapsed": false
   }
  },
  {
   "cell_type": "code",
   "execution_count": null,
   "outputs": [],
   "source": [],
   "metadata": {
    "collapsed": false,
    "pycharm": {
     "name": "#%%\n"
    }
   }
  },
  {
   "cell_type": "markdown",
   "source": [
    "Poison Distribution\n",
    "Normal Distribution\n",
    "Standard Normal Distribution\n",
    "Bernoulli\n",
    "Binomial\n",
    "\n",
    "What is discrete?\n",
    "What is Continuous?\n",
    "\n",
    "Dependent Variable: Is the varable we want to predict\n",
    "Independent Varavles: The varaibles we are going to use to predict"
   ],
   "metadata": {
    "collapsed": false
   }
  }
 ],
 "metadata": {
  "kernelspec": {
   "display_name": "Python 3",
   "language": "python",
   "name": "python3"
  },
  "language_info": {
   "codemirror_mode": {
    "name": "ipython",
    "version": 2
   },
   "file_extension": ".py",
   "mimetype": "text/x-python",
   "name": "python",
   "nbconvert_exporter": "python",
   "pygments_lexer": "ipython2",
   "version": "2.7.6"
  }
 },
 "nbformat": 4,
 "nbformat_minor": 0
}