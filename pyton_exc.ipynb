{
 "cells": [
  {
   "cell_type": "code",
   "execution_count": 34,
   "metadata": {
    "collapsed": true
   },
   "outputs": [],
   "source": [
    "import pandas as pd \n",
    "import seaborn as sns \n",
    "import numpy as np \n",
    "import matplotlib.pyplot as plt\n",
    "import requests \n",
    "import pprint"
   ]
  },
  {
   "cell_type": "code",
   "execution_count": 11,
   "metadata": {},
   "outputs": [],
   "source": [
    "wide = pd.read_csv('datasets/chap3/wide_data.csv', parse_dates=['date'])\n"
   ]
  },
  {
   "cell_type": "code",
   "execution_count": 12,
   "metadata": {},
   "outputs": [],
   "source": [
    "long_df = pd.read_csv('datasets/chap3/long_data.csv', usecols=[\"date\",\"datatype\", \"value\"], parse_dates=[\"date\"])[[\"date\", \"datatype\", \"value\"]]\n"
   ]
  },
  {
   "cell_type": "code",
   "execution_count": 20,
   "metadata": {},
   "outputs": [
    {
     "data": {
      "text/plain": [
       "dict_keys(['uid', 'mindate', 'maxdate', 'name', 'datacoverage', 'id'])"
      ]
     },
     "execution_count": 20,
     "metadata": {},
     "output_type": "execute_result"
    }
   ],
   "source": [
    "def make_request(endpoint, payload=None):\n",
    "    return requests.get('https://www.ncdc.noaa.gov/cdo-web/'f'api/v2/{endpoint}',\n",
    "        headers={'token': 'GYnPhfsIMQrxfFaUREpIotOxWbGKhcJA'},\n",
    "        params=payload\n",
    "    )\n",
    "\n",
    "response = make_request('datasets', {'startdate': '2018-10-01'})\n",
    "payload = response.json()\n",
    "payload.keys()\n",
    "payload['results'][0].keys()"
   ]
  },
  {
   "cell_type": "code",
   "execution_count": 21,
   "metadata": {},
   "outputs": [
    {
     "data": {
      "text/plain": [
       "[('GHCND', 'Daily Summaries'),\n",
       " ('GSOM', 'Global Summary of the Month'),\n",
       " ('GSOY', 'Global Summary of the Year'),\n",
       " ('NEXRAD2', 'Weather Radar (Level II)'),\n",
       " ('NEXRAD3', 'Weather Radar (Level III)'),\n",
       " ('NORMAL_ANN', 'Normals Annual/Seasonal'),\n",
       " ('NORMAL_DLY', 'Normals Daily'),\n",
       " ('NORMAL_HLY', 'Normals Hourly'),\n",
       " ('NORMAL_MLY', 'Normals Monthly'),\n",
       " ('PRECIP_15', 'Precipitation 15 Minute'),\n",
       " ('PRECIP_HLY', 'Precipitation Hourly')]"
      ]
     },
     "execution_count": 21,
     "metadata": {},
     "output_type": "execute_result"
    }
   ],
   "source": [
    "[(data['id'], data['name']) for data in payload['results']]"
   ]
  },
  {
   "cell_type": "code",
   "execution_count": 28,
   "metadata": {},
   "outputs": [
    {
     "data": {
      "text/plain": [
       "[('CDSD', 'Cooling Degree Days Season to Date'),\n",
       " ('DATN',\n",
       "  'Number of days included in the multiday minimum temperature (MDTN)'),\n",
       " ('DATX',\n",
       "  'Number of days included in the multiday maximum temperature (MDTX)'),\n",
       " ('DLY-DUTR-NORMAL', 'Long-term averages of daily diurnal temperature range'),\n",
       " ('DLY-DUTR-STDDEV',\n",
       "  'Long-term standard deviations of daily diurnal temperature range'),\n",
       " ('DLY-TAVG-NORMAL', 'Long-term averages of daily average temperature'),\n",
       " ('DLY-TAVG-STDDEV',\n",
       "  'Long-term standard deviations of daily average temperature'),\n",
       " ('DLY-TMAX-NORMAL', 'Long-term averages of daily maximum temperature'),\n",
       " ('DLY-TMAX-STDDEV',\n",
       "  'Long-term standard deviations of daily maximum temperature'),\n",
       " ('DLY-TMIN-NORMAL', 'Long-term averages of daily minimum temperature'),\n",
       " ('DLY-TMIN-STDDEV',\n",
       "  'Long-term standard deviations of daily minimum temperature'),\n",
       " ('EMNT', 'Extreme minimum temperature for the period.'),\n",
       " ('EMXT', 'Extreme maximum temperature for the period.'),\n",
       " ('HDSD', 'Heating Degree Days Season to Date'),\n",
       " ('HLY-DEWP-10PCTL', 'Dew point 10th percentile'),\n",
       " ('HLY-DEWP-90PCTL', 'Dew point 90th percentile'),\n",
       " ('HLY-DEWP-NORMAL', 'Dew point mean'),\n",
       " ('HLY-HIDX-NORMAL', 'Heat index mean'),\n",
       " ('HLY-TEMP-10PCTL', 'Temperature 10th percentile'),\n",
       " ('HLY-TEMP-90PCTL', 'Temperature 90th percentile'),\n",
       " ('HLY-TEMP-NORMAL', 'Temperature mean'),\n",
       " ('HLY-WCHL-NORMAL', 'Wind chill mean'),\n",
       " ('HTMN', 'Highest minimum temperature'),\n",
       " ('HTMX', 'Highest maximum temperature'),\n",
       " ('LTMN', 'Lowest minimum temperature'),\n",
       " ('LTMX', 'Lowest maximum temperature'),\n",
       " ('MDTN', 'Multiday minimum temperature (use with DATN)'),\n",
       " ('MDTX', 'Multiday maximum temperature (use with DATX)'),\n",
       " ('MLY-DUTR-NORMAL',\n",
       "  'Long-term averages of monthly diurnal temperature range'),\n",
       " ('MLY-DUTR-STDDEV',\n",
       "  'Long-term standard deviations of monthly diurnal temperature range'),\n",
       " ('MLY-TAVG-NORMAL', 'Long-term averages of monthly average temperature'),\n",
       " ('MLY-TAVG-STDDEV',\n",
       "  'Long-term standard deviations of monthly average temperature'),\n",
       " ('MLY-TMAX-AVGNDS-GRTH040',\n",
       "  'Long-term average number of days per month where tmax is greater than or equal to 40F'),\n",
       " ('MLY-TMAX-AVGNDS-GRTH050',\n",
       "  'Long-term average number of days per month where tmax is greater than or equal to 50F'),\n",
       " ('MLY-TMAX-AVGNDS-GRTH060',\n",
       "  'Long-term average number of days per month where tmax is greater than or equal to 60F'),\n",
       " ('MLY-TMAX-AVGNDS-GRTH070',\n",
       "  'Long-term average number of days per month where tmax is greater than or equal to 70F'),\n",
       " ('MLY-TMAX-AVGNDS-GRTH080',\n",
       "  'Long-term average number of days per month where tmax is greater than or equal to 80F'),\n",
       " ('MLY-TMAX-AVGNDS-GRTH090',\n",
       "  'Long-term average number of days per month where tmax is greater than or equal to 90F'),\n",
       " ('MLY-TMAX-AVGNDS-GRTH100',\n",
       "  'Long-term average number of days per month where tmax is greater than or equal to 100F'),\n",
       " ('MLY-TMAX-AVGNDS-LSTH032',\n",
       "  'Long-term average number of days per month where tmax is less than or equal to 32F'),\n",
       " ('MLY-TMAX-NORMAL', 'Long-term averages of monthly maximum temperature'),\n",
       " ('MLY-TMAX-STDDEV',\n",
       "  'Long-term standard deviations of monthly maximum temperature'),\n",
       " ('MLY-TMIN-AVGNDS-LSTH000',\n",
       "  'Long-term average number of days per month where tmin is less than or equal to 0F'),\n",
       " ('MLY-TMIN-AVGNDS-LSTH010',\n",
       "  'Long-term average number of days per month where tmin is less than or equal to 10F'),\n",
       " ('MLY-TMIN-AVGNDS-LSTH020',\n",
       "  'Long-term average number of days per month where tmin is less than or equal to 20F'),\n",
       " ('MLY-TMIN-AVGNDS-LSTH032',\n",
       "  'Long-term average number of days per month where tmin is less than or equal to 32F'),\n",
       " ('MLY-TMIN-AVGNDS-LSTH040',\n",
       "  'Long-term average number of days per month where tmin is less than or equal to 40F'),\n",
       " ('MLY-TMIN-AVGNDS-LSTH050',\n",
       "  'Long-term average number of days per month where tmin is less than or equal to 50F'),\n",
       " ('MLY-TMIN-AVGNDS-LSTH060',\n",
       "  'Long-term average number of days per month where tmin is less than or equal to 60F'),\n",
       " ('MLY-TMIN-AVGNDS-LSTH070',\n",
       "  'Long-term average number of days per month where tmin is less than or equal to 70F'),\n",
       " ('MLY-TMIN-NORMAL', 'Long-term averages of monthly minimum temperature'),\n",
       " ('MLY-TMIN-STDDEV',\n",
       "  'Long-term standard deviations of monthly minimum temperature'),\n",
       " ('MMNT', 'Monthly Mean minimum temperature'),\n",
       " ('MMXT', 'Monthly Mean maximum temperature'),\n",
       " ('MNTM', 'Monthly mean temperature'),\n",
       " ('TAVG', 'Average Temperature.'),\n",
       " ('TMAX', 'Maximum temperature'),\n",
       " ('TMIN', 'Minimum temperature'),\n",
       " ('TOBS', 'Temperature at the time of observation')]"
      ]
     },
     "execution_count": 28,
     "metadata": {},
     "output_type": "execute_result"
    }
   ],
   "source": [
    "response = make_request(\n",
    "'datatypes',payload={'datacategoryid': 'TEMP', 'limit': 100} )\n",
    "[(datatype['id'], datatype['name'])for datatype in response.json()['results']]"
   ]
  },
  {
   "cell_type": "code",
   "execution_count": 35,
   "metadata": {},
   "outputs": [
    {
     "name": "stdout",
     "output_type": "stream",
     "text": [
      "{'metadata': {'resultset': {'count': 12, 'limit': 25, 'offset': 1}},\n",
      " 'results': [{'id': 'CITY', 'name': 'City'},\n",
      "             {'id': 'CLIM_DIV', 'name': 'Climate Division'},\n",
      "             {'id': 'CLIM_REG', 'name': 'Climate Region'},\n",
      "             {'id': 'CNTRY', 'name': 'Country'},\n",
      "             {'id': 'CNTY', 'name': 'County'},\n",
      "             {'id': 'HYD_ACC', 'name': 'Hydrologic Accounting Unit'},\n",
      "             {'id': 'HYD_CAT', 'name': 'Hydrologic Cataloging Unit'},\n",
      "             {'id': 'HYD_REG', 'name': 'Hydrologic Region'},\n",
      "             {'id': 'HYD_SUB', 'name': 'Hydrologic Subregion'},\n",
      "             {'id': 'ST', 'name': 'State'},\n",
      "             {'id': 'US_TERR', 'name': 'US Territory'},\n",
      "             {'id': 'ZIP', 'name': 'Zip Code'}]}\n"
     ]
    }
   ],
   "source": [
    "response = make_request('locationcategories', payload={'datasetid': 'GHCND'})\n",
    "pprint.pprint(response.json())"
   ]
  }
 ],
 "metadata": {
  "kernelspec": {
   "display_name": "Python 3.9.13 ('gst')",
   "language": "python",
   "name": "python3"
  },
  "language_info": {
   "codemirror_mode": {
    "name": "ipython",
    "version": 3
   },
   "file_extension": ".py",
   "mimetype": "text/x-python",
   "name": "python",
   "nbconvert_exporter": "python",
   "pygments_lexer": "ipython3",
   "version": "3.9.13"
  },
  "vscode": {
   "interpreter": {
    "hash": "0656384006222c93124fb804bd1eb48c1757441eb338bd6daa7f08a14c55e81e"
   }
  }
 },
 "nbformat": 4,
 "nbformat_minor": 0
}
